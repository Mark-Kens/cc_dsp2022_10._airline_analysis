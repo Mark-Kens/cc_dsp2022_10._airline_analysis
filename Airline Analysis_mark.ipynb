{
 "cells": [
  {
   "cell_type": "markdown",
   "metadata": {},
   "source": [
    "# Airline Analysis"
   ]
  },
  {
   "cell_type": "markdown",
   "metadata": {},
   "source": [
    "In this project, you'll imagine that you work for a travel agency and need to know the ins and outs of airline prices for your clients. You want to make sure that you can find the best deal for your client and help them to understand how airline prices change based on different factors.\n",
    "\n",
    "You decide to look into your favorite airline. The data include:\n",
    "- `miles`: miles traveled through the flight\n",
    "- `passengers`: number of passengers on the flight\n",
    "- `delay`: take-off delay in minutes\n",
    "- `inflight_meal`: is there a meal included in the flight?\n",
    "- `inflight_entertainment`: are there free entertainment systems for each seat?\n",
    "- `inflight_wifi`: is there complimentary wifi on the flight?\n",
    "- `day_of_week`: day of the week of the flight\n",
    "- `weekend`: did this flight take place on a weekend?\n",
    "- `coach_price`: the average price paid for a coach ticket\n",
    "- `firstclass_price`: the average price paid for first-class seats\n",
    "- `hours`: how many hours the flight took\n",
    "- `redeye`: was this flight a redeye (overnight)?\n",
    "\n",
    "In this project, you'll explore a dataset for the first time and get to know each of these features. Keep in mind that there's no one right way to address each of these questions. The goal is simply to explore and get to know the data using whatever methods come to mind.\n",
    "\n",
    "You will be working in this file. Note that there is the file **Airline Analysis_Solution.ipynb** that contains the solution code for this project. We highly recommend that you complete the project on your own without checking the solution, but feel free to take a look if you get stuck or if you want to compare answers when you're done.\n",
    "\n",
    "In order to get the plots to appear correctly in the notebook, you'll need to show and then clear each plot before creating the next one using the following code:\n",
    "\n",
    "```py\n",
    "plt.show() # Show the plot\n",
    "plt.clf() # Clear the plot\n",
    "```\n",
    "\n",
    "Clearing the plot will not erase the plot from view, it will just create a new space for the following graphic."
   ]
  },
  {
   "cell_type": "markdown",
   "metadata": {},
   "source": [
    "## Univariate Analysis"
   ]
  },
  {
   "cell_type": "markdown",
   "metadata": {},
   "source": [
    "1. What do coach ticket prices look like? What are the high and low values? What would be considered the average? Does $500 seem like a good price for a coach ticket?"
   ]
  },
  {
   "cell_type": "code",
   "execution_count": 17,
   "metadata": {},
   "outputs": [
    {
     "data": {
      "image/png": "[encoded data removed]",
      "text/plain": [
       "<Figure size 432x288 with 1 Axes>"
      ]
     },
     "metadata": {
      "needs_background": "light"
     },
     "output_type": "display_data"
    },
    {
     "data": {
      "text/html": [
       "<div>\n",
       "<style scoped>\n",
       "    .dataframe tbody tr th:only-of-type {\n",
       "        vertical-align: middle;\n",
       "    }\n",
       "\n",
       "    .dataframe tbody tr th {\n",
       "        vertical-align: top;\n",
       "    }\n",
       "\n",
       "    .dataframe thead th {\n",
       "        text-align: right;\n",
       "    }\n",
       "</style>\n",
       "<table border=\"1\" class=\"dataframe\">\n",
       "  <thead>\n",
       "    <tr style=\"text-align: right;\">\n",
       "      <th></th>\n",
       "      <th>miles</th>\n",
       "      <th>passengers</th>\n",
       "      <th>delay</th>\n",
       "      <th>coach_price</th>\n",
       "      <th>firstclass_price</th>\n",
       "      <th>hours</th>\n",
       "    </tr>\n",
       "  </thead>\n",
       "  <tbody>\n",
       "    <tr>\n",
       "      <th>count</th>\n",
       "      <td>129780.000000</td>\n",
       "      <td>129780.000000</td>\n",
       "      <td>129780.000000</td>\n",
       "      <td>129780.000000</td>\n",
       "      <td>129780.000000</td>\n",
       "      <td>129780.000000</td>\n",
       "    </tr>\n",
       "    <tr>\n",
       "      <th>mean</th>\n",
       "      <td>2006.224696</td>\n",
       "      <td>207.723155</td>\n",
       "      <td>13.162845</td>\n",
       "      <td>376.585253</td>\n",
       "      <td>1454.931785</td>\n",
       "      <td>3.631214</td>\n",
       "    </tr>\n",
       "    <tr>\n",
       "      <th>std</th>\n",
       "      <td>943.034768</td>\n",
       "      <td>12.776363</td>\n",
       "      <td>41.941680</td>\n",
       "      <td>67.744274</td>\n",
       "      <td>162.590434</td>\n",
       "      <td>1.739118</td>\n",
       "    </tr>\n",
       "    <tr>\n",
       "      <th>min</th>\n",
       "      <td>12.000000</td>\n",
       "      <td>135.000000</td>\n",
       "      <td>0.000000</td>\n",
       "      <td>44.415000</td>\n",
       "      <td>939.100000</td>\n",
       "      <td>1.000000</td>\n",
       "    </tr>\n",
       "    <tr>\n",
       "      <th>25%</th>\n",
       "      <td>1343.000000</td>\n",
       "      <td>204.000000</td>\n",
       "      <td>9.000000</td>\n",
       "      <td>331.445000</td>\n",
       "      <td>1302.200000</td>\n",
       "      <td>2.000000</td>\n",
       "    </tr>\n",
       "    <tr>\n",
       "      <th>50%</th>\n",
       "      <td>1986.000000</td>\n",
       "      <td>210.000000</td>\n",
       "      <td>10.000000</td>\n",
       "      <td>380.560000</td>\n",
       "      <td>1503.840000</td>\n",
       "      <td>4.000000</td>\n",
       "    </tr>\n",
       "    <tr>\n",
       "      <th>75%</th>\n",
       "      <td>2468.000000</td>\n",
       "      <td>215.000000</td>\n",
       "      <td>13.000000</td>\n",
       "      <td>426.676250</td>\n",
       "      <td>1582.370000</td>\n",
       "      <td>4.000000</td>\n",
       "    </tr>\n",
       "    <tr>\n",
       "      <th>max</th>\n",
       "      <td>4548.000000</td>\n",
       "      <td>244.000000</td>\n",
       "      <td>1560.000000</td>\n",
       "      <td>593.635000</td>\n",
       "      <td>1846.780000</td>\n",
       "      <td>8.000000</td>\n",
       "    </tr>\n",
       "  </tbody>\n",
       "</table>\n",
       "</div>"
      ],
      "text/plain": [
       "               miles     passengers          delay    coach_price  \\\n",
       "count  129780.000000  129780.000000  129780.000000  129780.000000   \n",
       "mean     2006.224696     207.723155      13.162845     376.585253   \n",
       "std       943.034768      12.776363      41.941680      67.744274   \n",
       "min        12.000000     135.000000       0.000000      44.415000   \n",
       "25%      1343.000000     204.000000       9.000000     331.445000   \n",
       "50%      1986.000000     210.000000      10.000000     380.560000   \n",
       "75%      2468.000000     215.000000      13.000000     426.676250   \n",
       "max      4548.000000     244.000000    1560.000000     593.635000   \n",
       "\n",
       "       firstclass_price          hours  \n",
       "count     129780.000000  129780.000000  \n",
       "mean        1454.931785       3.631214  \n",
       "std          162.590434       1.739118  \n",
       "min          939.100000       1.000000  \n",
       "25%         1302.200000       2.000000  \n",
       "50%         1503.840000       4.000000  \n",
       "75%         1582.370000       4.000000  \n",
       "max         1846.780000       8.000000  "
      ]
     },
     "execution_count": 17,
     "metadata": {},
     "output_type": "execute_result"
    },
    {
     "data": {
      "text/plain": [
       "<Figure size 432x288 with 0 Axes>"
      ]
     },
     "metadata": {},
     "output_type": "display_data"
    }
   ],
   "source": [
    "import pandas as pd\n",
    "import numpy as np\n",
    "import seaborn as sns\n",
    "import statsmodels\n",
    "import matplotlib.pyplot as plt\n",
    "import math\n",
    "\n",
    "## Read in Data\n",
    "flight = pd.read_csv(\"flight.csv\")\n",
    "\n",
    "# OUTPUTS don't fit to space provided.\n",
    "# Comment out flight.info() and flight.describe() after viewing. \n",
    "# There is not enough space for showing flight.head().\n",
    "\n",
    "# flight.info()\n",
    "# 129780 records\n",
    "# 129780 non-null; missing values may not be recognized as null, e.g., 0.\n",
    "\n",
    "# flight.describe()\n",
    "# Not very useful for now.\n",
    "\n",
    "# print(flight.head(10))\n",
    "# So far, records seem complete.\n",
    "\n",
    "## Task 1\n",
    "# Coach ticket prices have 3 decimal places.\n",
    "\n",
    "# Histogram: sns.histplot() \n",
    "sns.histplot(flight.coach_price)\n",
    "plt.show()\n",
    "plt.clf()\n",
    "\n",
    "# flight.describe() shows \"min\", \"max\", \"mean\" etc.\n",
    "flight.describe()\n",
    "# Coach high values (75%): 427\n",
    "# Coach low values (25%): 331\n",
    "# Coach mean: 376\n",
    "# Coach median (50%): 380\n",
    "# $500 is an expensive ticket for coach."
   ]
  },
  {
   "cell_type": "markdown",
   "metadata": {},
   "source": [
    "2. Now visualize the coach ticket prices for flights that are 8 hours long. What are the high, low, and average prices for 8-hour-long flights? Does a $500 dollar ticket seem more reasonable than before?"
   ]
  },
  {
   "cell_type": "code",
   "execution_count": 19,
   "metadata": {},
   "outputs": [
    {
     "data": {
      "text/html": [
       "<div>\n",
       "<style scoped>\n",
       "    .dataframe tbody tr th:only-of-type {\n",
       "        vertical-align: middle;\n",
       "    }\n",
       "\n",
       "    .dataframe tbody tr th {\n",
       "        vertical-align: top;\n",
       "    }\n",
       "\n",
       "    .dataframe thead th {\n",
       "        text-align: right;\n",
       "    }\n",
       "</style>\n",
       "<table border=\"1\" class=\"dataframe\">\n",
       "  <thead>\n",
       "    <tr style=\"text-align: right;\">\n",
       "      <th></th>\n",
       "      <th>miles</th>\n",
       "      <th>passengers</th>\n",
       "      <th>delay</th>\n",
       "      <th>coach_price</th>\n",
       "      <th>firstclass_price</th>\n",
       "      <th>hours</th>\n",
       "    </tr>\n",
       "  </thead>\n",
       "  <tbody>\n",
       "    <tr>\n",
       "      <th>count</th>\n",
       "      <td>2634.000000</td>\n",
       "      <td>2634.000000</td>\n",
       "      <td>2634.000000</td>\n",
       "      <td>2634.000000</td>\n",
       "      <td>2634.000000</td>\n",
       "      <td>2634.0</td>\n",
       "    </tr>\n",
       "    <tr>\n",
       "      <th>mean</th>\n",
       "      <td>4207.205771</td>\n",
       "      <td>207.270691</td>\n",
       "      <td>14.167426</td>\n",
       "      <td>431.834377</td>\n",
       "      <td>1571.496572</td>\n",
       "      <td>8.0</td>\n",
       "    </tr>\n",
       "    <tr>\n",
       "      <th>std</th>\n",
       "      <td>69.083475</td>\n",
       "      <td>13.098447</td>\n",
       "      <td>57.863457</td>\n",
       "      <td>64.083280</td>\n",
       "      <td>153.833271</td>\n",
       "      <td>0.0</td>\n",
       "    </tr>\n",
       "    <tr>\n",
       "      <th>min</th>\n",
       "      <td>4125.000000</td>\n",
       "      <td>148.000000</td>\n",
       "      <td>0.000000</td>\n",
       "      <td>170.770000</td>\n",
       "      <td>1128.770000</td>\n",
       "      <td>8.0</td>\n",
       "    </tr>\n",
       "    <tr>\n",
       "      <th>25%</th>\n",
       "      <td>4154.000000</td>\n",
       "      <td>203.000000</td>\n",
       "      <td>9.000000</td>\n",
       "      <td>390.266250</td>\n",
       "      <td>1415.645000</td>\n",
       "      <td>8.0</td>\n",
       "    </tr>\n",
       "    <tr>\n",
       "      <th>50%</th>\n",
       "      <td>4190.000000</td>\n",
       "      <td>209.000000</td>\n",
       "      <td>10.000000</td>\n",
       "      <td>437.115000</td>\n",
       "      <td>1632.905000</td>\n",
       "      <td>8.0</td>\n",
       "    </tr>\n",
       "    <tr>\n",
       "      <th>75%</th>\n",
       "      <td>4243.000000</td>\n",
       "      <td>215.000000</td>\n",
       "      <td>13.000000</td>\n",
       "      <td>480.043750</td>\n",
       "      <td>1693.000000</td>\n",
       "      <td>8.0</td>\n",
       "    </tr>\n",
       "    <tr>\n",
       "      <th>max</th>\n",
       "      <td>4548.000000</td>\n",
       "      <td>233.000000</td>\n",
       "      <td>1509.000000</td>\n",
       "      <td>593.635000</td>\n",
       "      <td>1846.140000</td>\n",
       "      <td>8.0</td>\n",
       "    </tr>\n",
       "  </tbody>\n",
       "</table>\n",
       "</div>"
      ],
      "text/plain": [
       "             miles   passengers        delay  coach_price  firstclass_price  \\\n",
       "count  2634.000000  2634.000000  2634.000000  2634.000000       2634.000000   \n",
       "mean   4207.205771   207.270691    14.167426   431.834377       1571.496572   \n",
       "std      69.083475    13.098447    57.863457    64.083280        153.833271   \n",
       "min    4125.000000   148.000000     0.000000   170.770000       1128.770000   \n",
       "25%    4154.000000   203.000000     9.000000   390.266250       1415.645000   \n",
       "50%    4190.000000   209.000000    10.000000   437.115000       1632.905000   \n",
       "75%    4243.000000   215.000000    13.000000   480.043750       1693.000000   \n",
       "max    4548.000000   233.000000  1509.000000   593.635000       1846.140000   \n",
       "\n",
       "        hours  \n",
       "count  2634.0  \n",
       "mean      8.0  \n",
       "std       0.0  \n",
       "min       8.0  \n",
       "25%       8.0  \n",
       "50%       8.0  \n",
       "75%       8.0  \n",
       "max       8.0  "
      ]
     },
     "execution_count": 19,
     "metadata": {},
     "output_type": "execute_result"
    }
   ],
   "source": [
    "## Task 2\n",
    "# Creating new dataframe for hours == 8,\n",
    "# using a new method: df.query(\"<column> <operator> <value>\")\n",
    "# OUTPUTS don't fit to space provided. Comment out histogram to see this.\n",
    "flight_8 = flight.query(\"hours == 8\")\n",
    "flight_8.describe()\n",
    "# Coach high values (75%): 480\n",
    "# Coach low values (25%): 390\n",
    "# Coach mean: 431\n",
    "# Coach median (50%): 437\n",
    "# $500 is closer to the new mean but still expensive. \n",
    "\n",
    "# Histogram: sns.histplot() \n",
    "# sns.histplot(flight_8.coach_price)\n",
    "# plt.show()\n",
    "# plt.clf()\n",
    "\n",
    "# Placing the plot before .describe() (as in Task 1) may show both outputs.\n"
   ]
  },
  {
   "cell_type": "markdown",
   "metadata": {},
   "source": [
    "3. How are flight delay times distributed? Let's say there is a short amount of time between two connecting flights, and a flight delay would put the client at risk of missing their connecting flight. You want to better understand how often there are large delays so you can correctly set up connecting flights. What kinds of delays are typical?"
   ]
  },
  {
   "cell_type": "code",
   "execution_count": 30,
   "metadata": {},
   "outputs": [
    {
     "data": {
      "image/png": "[encoded data removed]",
      "text/plain": [
       "<Figure size 432x288 with 1 Axes>"
      ]
     },
     "metadata": {
      "needs_background": "light"
     },
     "output_type": "display_data"
    },
    {
     "data": {
      "text/plain": [
       "<Figure size 432x288 with 0 Axes>"
      ]
     },
     "metadata": {},
     "output_type": "display_data"
    }
   ],
   "source": [
    "## Task 3\n",
    "# Try histogram of delays\n",
    "# sns.histplot(flight.delay)\n",
    "# The plot looks empty.\n",
    "\n",
    "# Try delays less than 240 minutes\n",
    "# sns.histplot(flight.delay[flight.delay <= 240])\n",
    "# Now, the x-axis goes from 0 to 60; not 240.\n",
    "\n",
    "# Try 480 min\n",
    "# sns.histplot(flight.delay[flight.delay <= 480])\n",
    "# Same plot.\n",
    "\n",
    "# Try 1509, which is the max value\n",
    "# sns.histplot(flight.delay[flight.delay <= 1509])\n",
    "# Now, the x-axis goes up to 1600.\n",
    "\n",
    "# Try 1000, which is the max value\n",
    "# sns.histplot(flight.delay[flight.delay <= 1000])\n",
    "# Now, the x-axis again goes up to 60.\n",
    "\n",
    "# This histogram seems useless.\n",
    "\n",
    "# It seems, most delays are between 7 and 13 minutes.\n",
    "\n",
    "\n",
    "plt.hist(flight.delay[flight.delay <= 1000])\n",
    "# Using plt.hist() has the same problem: x-axis goes up to 60.\n",
    "\n",
    "\n",
    "plt.show()\n",
    "plt.clf()"
   ]
  },
  {
   "cell_type": "markdown",
   "metadata": {},
   "source": [
    "## Bivariate Analysis"
   ]
  },
  {
   "cell_type": "markdown",
   "metadata": {},
   "source": [
    "4. Create a visualization that shows the relationship between coach and first-class prices. What is the relationship between these two prices? Do flights with higher coach prices always have higher first-class prices as well?"
   ]
  },
  {
   "cell_type": "code",
   "execution_count": 34,
   "metadata": {},
   "outputs": [
    {
     "data": {
      "image/png": "[encoded data removed]",
      "text/plain": [
       "<Figure size 432x288 with 1 Axes>"
      ]
     },
     "metadata": {
      "needs_background": "light"
     },
     "output_type": "display_data"
    },
    {
     "data": {
      "text/plain": [
       "<Figure size 432x288 with 0 Axes>"
      ]
     },
     "metadata": {},
     "output_type": "display_data"
    }
   ],
   "source": [
    "## Task 4\n",
    "# Relationship between two variables.\n",
    "# Scatter. \n",
    "plt.scatter(flight.coach_price, flight.firstclass_price)\n",
    "# Yes, the prices are related.\n",
    "\n",
    "\n",
    "plt.show()\n",
    "plt.clf()"
   ]
  },
  {
   "cell_type": "markdown",
   "metadata": {},
   "source": [
    "5. What is the relationship between coach prices and inflight features &mdash; inflight meal, inflight entertainment, and inflight WiFi? Which features are associated with the highest increase in price?"
   ]
  },
  {
   "cell_type": "code",
   "execution_count": 6,
   "metadata": {},
   "outputs": [],
   "source": [
    "## Task 5\n",
    "\n"
   ]
  },
  {
   "cell_type": "markdown",
   "metadata": {},
   "source": [
    "6. How does the number of passengers change in relation to the length of flights?"
   ]
  },
  {
   "cell_type": "code",
   "execution_count": 7,
   "metadata": {},
   "outputs": [],
   "source": [
    "## Task 6\n",
    "\n"
   ]
  },
  {
   "cell_type": "markdown",
   "metadata": {},
   "source": [
    "## Multivariate Analysis"
   ]
  },
  {
   "cell_type": "markdown",
   "metadata": {},
   "source": [
    "7. Visualize the relationship between coach and first-class prices on weekends compared to weekdays."
   ]
  },
  {
   "cell_type": "code",
   "execution_count": 8,
   "metadata": {},
   "outputs": [],
   "source": [
    "## Task 7\n",
    "\n"
   ]
  },
  {
   "cell_type": "markdown",
   "metadata": {},
   "source": [
    "8. How do coach prices differ for redeyes and non-redeyes on each day of the week?"
   ]
  },
  {
   "cell_type": "code",
   "execution_count": 9,
   "metadata": {},
   "outputs": [],
   "source": [
    "## Task 8\n",
    "\n",
    "\n",
    "\n",
    "\n"
   ]
  },
  {
   "cell_type": "code",
   "execution_count": null,
   "metadata": {},
   "outputs": [],
   "source": []
  }
 ],
 "metadata": {
  "kernelspec": {
   "display_name": "Python 3.8.8 ('base')",
   "language": "python",
   "name": "python3"
  },
  "language_info": {
   "codemirror_mode": {
    "name": "ipython",
    "version": 3
   },
   "file_extension": ".py",
   "mimetype": "text/x-python",
   "name": "python",
   "nbconvert_exporter": "python",
   "pygments_lexer": "ipython3",
   "version": "3.8.8"
  },
  "vscode": {
   "interpreter": {
    "hash": "4d6979881df6e222f622e5c452613767b84695145e0c10696727ea7f3c022c7e"
   }
  }
 },
 "nbformat": 4,
 "nbformat_minor": 2
}
